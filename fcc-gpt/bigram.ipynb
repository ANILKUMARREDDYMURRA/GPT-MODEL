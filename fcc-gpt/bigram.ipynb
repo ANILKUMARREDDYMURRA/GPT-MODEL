{
 "cells": [
  {
   "cell_type": "code",
   "execution_count": 12,
   "id": "d70d2eed-abdc-4eeb-8f45-170617a2961e",
   "metadata": {},
   "outputs": [
    {
     "name": "stdout",
     "output_type": "stream",
     "text": [
      "cuda\n"
     ]
    }
   ],
   "source": [
    "import torch\n",
    "import torch.nn as nn\n",
    "from torch.nn import functional as F\n",
    "device = 'cuda' if torch.cuda.is_available() else 'cpu'\n",
    "print(device)\n",
    "block_size = 8\n",
    "batch_size = 4\n",
    "max_iters = 2000\n",
    "learning_rate = 3e-4\n",
    "eval_iters = 250\n",
    "dropout = 0.2"
   ]
  },
  {
   "cell_type": "code",
   "execution_count": 4,
   "id": "c0450db6-68db-4627-963e-34690ba3326d",
   "metadata": {},
   "outputs": [
    {
     "name": "stdout",
     "output_type": "stream",
     "text": [
      "['\\n', ' ', '!', '\"', '#', '&', \"'\", '(', ')', '*', ',', '-', '.', '/', '0', '1', '2', '3', '4', '5', '6', '7', '8', '9', ':', ';', '?', 'A', 'B', 'C', 'D', 'E', 'F', 'G', 'H', 'I', 'J', 'K', 'L', 'M', 'N', 'O', 'P', 'Q', 'R', 'S', 'T', 'U', 'V', 'W', 'X', 'Y', 'Z', '[', ']', '_', 'a', 'b', 'c', 'd', 'e', 'f', 'g', 'h', 'i', 'j', 'k', 'l', 'm', 'n', 'o', 'p', 'q', 'r', 's', 't', 'u', 'v', 'w', 'x', 'y', 'z', '\\ufeff']\n",
      "83\n"
     ]
    }
   ],
   "source": [
    "with open ('wizard_of_oz.txt','r',encoding = 'utf-8') as f:\n",
    "    text = f.read()\n",
    "chars = sorted(set(text))\n",
    "print(chars)\n",
    "vocab_size = len(chars)\n",
    "print(vocab_size)\n"
   ]
  },
  {
   "cell_type": "code",
   "execution_count": 5,
   "id": "cdc668e4-b7bf-4155-9982-81dc7c594fed",
   "metadata": {},
   "outputs": [
    {
     "name": "stdout",
     "output_type": "stream",
     "text": [
      "tensor([82, 46, 63, 60,  1, 42, 73, 70, 65, 60, 58, 75,  1, 33, 76, 75, 60, 69,\n",
      "        57, 60, 73, 62,  1, 60, 28, 70, 70, 66,  1, 70, 61,  1, 30, 70, 73, 70,\n",
      "        75, 63, 80,  1, 56, 69, 59,  1, 75, 63, 60,  1, 49, 64, 81, 56, 73, 59,\n",
      "         1, 64, 69,  1, 41, 81,  0,  1,  1,  1,  1,  0, 46, 63, 64, 74,  1, 60,\n",
      "        57, 70, 70, 66,  1, 64, 74,  1, 61, 70, 73,  1, 75, 63, 60,  1, 76, 74,\n",
      "        60,  1, 70, 61,  1, 56, 69, 80, 70, 69])\n"
     ]
    }
   ],
   "source": [
    "string_to_int = {ch:i for i,ch in enumerate(chars)}\n",
    "int_to_string = {i:ch for i,ch in enumerate(chars)}\n",
    "encode = lambda s: [string_to_int[c] for c in s]\n",
    "decode = lambda l: ''.join([int_to_string[i] for i in l])\n",
    "\n",
    "data = torch.tensor(encode(text),dtype = torch.long)\n",
    "print(data[:100])"
   ]
  },
  {
   "cell_type": "code",
   "execution_count": 6,
   "id": "4c9cecd2-a135-4484-96a6-0c99c17af0ba",
   "metadata": {},
   "outputs": [
    {
     "name": "stdout",
     "output_type": "stream",
     "text": [
      "186744\n",
      "46686\n",
      "inputs:\n",
      "tensor([[64, 75, 60,  1, 56,  1, 78, 63],\n",
      "        [ 1, 70, 61,  1, 74, 75, 56, 75],\n",
      "        [ 3,  1, 56, 74, 66, 60, 59,  1],\n",
      "        [73, 70, 58, 70, 59, 64, 67, 60]], device='cuda:0')\n",
      "targets:\n",
      "tensor([[75, 60,  1, 56,  1, 78, 63, 64],\n",
      "        [70, 61,  1, 74, 75, 56, 75, 60],\n",
      "        [ 1, 56, 74, 66, 60, 59,  1, 75],\n",
      "        [70, 58, 70, 59, 64, 67, 60, 74]], device='cuda:0')\n"
     ]
    }
   ],
   "source": [
    "n = int(0.8*len(data))\n",
    "train_data = data[:n]\n",
    "val_data =  data[n:]\n",
    "\n",
    "print(len(train_data))\n",
    "print(len(val_data))\n",
    "\n",
    "def get_batch(split):\n",
    "    data = train_data if split == 'train' else val_data\n",
    "    #print(len(data)-block_size)\n",
    "    ix = torch.randint(len(data)-block_size,(batch_size,))\n",
    "    #print(ix)\n",
    "    x = torch.stack([data[i:i+block_size] for i in ix])\n",
    "    y = torch.stack([data[i+1:i+block_size+1] for i in ix])\n",
    "    x, y = x.to(device), y.to(device)\n",
    "    return x, y\n",
    "\n",
    "\n",
    "x, y = get_batch('train')\n",
    "print('inputs:')\n",
    "print(x)\n",
    "print('targets:')\n",
    "print(y)"
   ]
  },
  {
   "cell_type": "code",
   "execution_count": 7,
   "id": "59f7c282-a259-42c1-85fa-b0e26aa5703e",
   "metadata": {},
   "outputs": [
    {
     "name": "stdout",
     "output_type": "stream",
     "text": [
      "when input is tensor([82]) target is tensor(46)\n",
      "when input is tensor([82, 46]) target is tensor(63)\n",
      "when input is tensor([82, 46, 63]) target is tensor(60)\n",
      "when input is tensor([82, 46, 63, 60]) target is tensor(1)\n",
      "when input is tensor([82, 46, 63, 60,  1]) target is tensor(42)\n",
      "when input is tensor([82, 46, 63, 60,  1, 42]) target is tensor(73)\n",
      "when input is tensor([82, 46, 63, 60,  1, 42, 73]) target is tensor(70)\n",
      "when input is tensor([82, 46, 63, 60,  1, 42, 73, 70]) target is tensor(65)\n"
     ]
    }
   ],
   "source": [
    "\n",
    "x = train_data[:block_size]\n",
    "y = train_data[1:block_size+1]\n",
    "\n",
    "for t in range(block_size):\n",
    "    context = x[:t+1]\n",
    "    target = y[t]\n",
    "    print(\"when input is\",context,\"target is\",target)"
   ]
  },
  {
   "cell_type": "code",
   "execution_count": 8,
   "id": "238d126a-dbd6-4b1a-89ff-972538ea747f",
   "metadata": {},
   "outputs": [],
   "source": [
    "@torch.no_grad()\n",
    "def estimate_loss():\n",
    "    out = {}\n",
    "    model.eval()\n",
    "    for split in ['train','val']:\n",
    "        losses = torch.zeros(eval_iters)\n",
    "        for k in range(eval_iters):\n",
    "            X,Y = get_batch(split)\n",
    "            logits,loss = model (X,Y)\n",
    "            losses[k] = loss.item()\n",
    "        out[split] = losses.mean()\n",
    "    model.train()\n",
    "    return out"
   ]
  },
  {
   "cell_type": "code",
   "execution_count": 9,
   "id": "72d64a8a-cb17-479f-a9a4-55366e18faa4",
   "metadata": {},
   "outputs": [
    {
     "name": "stdout",
     "output_type": "stream",
     "text": [
      "\n",
      "7]q_V'ORgw:S?sVD*LRZQUMkMhuJ6u;]#RW4'(zIDI.#lAxW4F;)﻿eZsdF'OGfn5J')k(\"\n",
      "]&BxZ\n",
      "qs3GRj:PJPDg1.F4olURrpzfQj3;:P﻿06EK**\n",
      "(?Bdfi2-rp_G3'7a﻿7t\n",
      "G4lMx](oN?T1jkr/\"j9E[NGh(Rmk93gqWcXE\"4ax'8M&YVfkn#.6LM1*3zvpO2tM:5aq!/CCebeF;JXSJ9/8WM8A8P5t*4KPO;H! *\"/s\n",
      "Kd3PR_mR FboSAI hKeWq(8fO:4DoVTw/,Hn[E,u?]FgSH_\n",
      "_mmRdYo9,KH*dL/\"r8GH(tCZN5cqH72.AeeSjO:\"& j?0)f]OXb5Wqx'mI)jwbVE\"\"\n",
      "EKBdi2MvGO'p;3f&G_TmaHkIMx!CdQUuo?.3:bKb]dnT)\n",
      "R'OXfP,/;);:y﻿Nh3Y4K-pBQ)!EKJk\"mNw\n",
      "_OuMh3kSy(riG_Adctro8fa.s'aZrMcax﻿ew!hkE5ORVJi.Fs-cXO(Ah.5QbY((\n"
     ]
    }
   ],
   "source": [
    "class BigramLanguageModel(nn.Module):\n",
    "    def __init__(self,vocab_size):\n",
    "        super().__init__()\n",
    "        self.token_embedding_table = nn.Embedding(vocab_size,vocab_size)\n",
    "\n",
    "    def forward(self,index,targets = None):\n",
    "        logits = self.token_embedding_table(index)\n",
    "        \n",
    "       \n",
    "\n",
    "        if targets is None:\n",
    "            loss = None\n",
    "        else:\n",
    "            B, T, C = logits.shape\n",
    "            logits = logits.view(B*T,C)\n",
    "            targets = targets.view(B*T)\n",
    "            loss = F.cross_entropy(logits,targets)\n",
    "            \n",
    "            \n",
    "\n",
    "        return logits, loss \n",
    "\n",
    "    def generate(self,index,max_new_tokens):\n",
    "        for i in range(max_new_tokens):\n",
    "            logits , loss = self.forward(index)\n",
    "\n",
    "            logits = logits[:,-1,:]\n",
    "\n",
    "            probs = F.softmax(logits,dim=-1)\n",
    "\n",
    "            index_next = torch.multinomial(probs,num_samples = 1)\n",
    "\n",
    "            index = torch.cat((index,index_next),dim=1)\n",
    "        return index\n",
    "\n",
    "\n",
    "model = BigramLanguageModel(vocab_size)\n",
    "m = model.to(device)\n",
    "\n",
    "context = torch.zeros((1,1) , dtype= torch.long,device = device)\n",
    "generated_chars = decode(m.generate(context,max_new_tokens=500)[0].tolist())\n",
    "print(generated_chars)\n"
   ]
  },
  {
   "cell_type": "code",
   "execution_count": 13,
   "id": "b17985e4-1520-4516-b6a9-26266d5c4c62",
   "metadata": {},
   "outputs": [
    {
     "name": "stdout",
     "output_type": "stream",
     "text": [
      "step: 0, train_loss: 4.120 , val_loss: 4.138\n",
      "step: 250, train_loss: 4.067 , val_loss: 4.086\n",
      "step: 500, train_loss: 4.028 , val_loss: 4.025\n",
      "step: 750, train_loss: 3.975 , val_loss: 3.967\n",
      "step: 1000, train_loss: 3.954 , val_loss: 3.951\n",
      "step: 1250, train_loss: 3.869 , val_loss: 3.903\n",
      "step: 1500, train_loss: 3.834 , val_loss: 3.862\n",
      "step: 1750, train_loss: 3.778 , val_loss: 3.822\n",
      "3.3479244709014893\n"
     ]
    }
   ],
   "source": [
    "optimizer = torch.optim.AdamW(model.parameters(),lr = learning_rate)\n",
    "\n",
    "for iter in range(max_iters):\n",
    "    \n",
    "   \n",
    "    if iter % eval_iters == 0:\n",
    "        losses = estimate_loss()\n",
    "        print(f\"step: {iter}, train_loss: {losses['train']:.3f} , val_loss: {losses['val']:.3f}\")\n",
    "\n",
    "    xb,yb = get_batch('train')\n",
    "\n",
    "    logits,loss = model.forward(xb,yb)\n",
    "    optimizer.zero_grad(set_to_none = True)\n",
    "    loss.backward()\n",
    "    optimizer.step()\n",
    "\n",
    "    \n",
    "\n",
    "\n",
    "\n",
    "print(loss.item())\n"
   ]
  },
  {
   "cell_type": "code",
   "execution_count": 14,
   "id": "ad5c6fc6-5c85-42f0-a1b7-900ed8ff2e0d",
   "metadata": {},
   "outputs": [
    {
     "name": "stdout",
     "output_type": "stream",
     "text": [
      "\n",
      "i2q8cIfwC(emp/Ji.DK)]G\"3vyOwT3T/nj9ceeFYk!go&H8G:\"drzAhHCh(riwevq1Maqm?v'tacqt FvpwRz( fAdQBR4#akXZx8P,\n",
      "qakz(uwGDQ[7 in.knAPF;26,ck?!LZ)ji1,q!\"zT9t!MouYo*'EtfDEKJ'cO(un-kFNh3\"sun20D9_[D2o0PgiGJkSB?Mx'wrod﻿2173/;n;(6ixZW!nTWkn mvedt *;A& a h(geTK;jn[_RKun.*btbOk(67E5R:X#xZhJoba d\n",
      "uMO#T3:Z,2#_R904FsI]:,n!\n",
      "wI)Kf. hcZV'Ezvg a eOl.R4t,/KXVzJ).NGyTR4GxZO.IjCSYHS#(R?g R\n",
      "\n",
      "M\"rZe nTN(I9K_Rro*KG'H:KFov6ik_F;\n",
      "B8Pj*L_aoljLZ9ly_:otvVa.#7fC\n",
      "nfiu.]U:kJpgm\"r*i\n",
      "beejnaQ!xI.PTBy 57f3uM/rZrvW#9bh(lS&vTcpZ-Qfad Yo:.U\n"
     ]
    }
   ],
   "source": [
    "context = torch.zeros((1,1) , dtype= torch.long,device = device)\n",
    "generated_chars = decode(m.generate(context,max_new_tokens=500)[0].tolist())\n",
    "print(generated_chars)"
   ]
  },
  {
   "cell_type": "code",
   "execution_count": null,
   "id": "5f9db348-6f58-4467-8fe1-5a19e859af08",
   "metadata": {},
   "outputs": [],
   "source": []
  },
  {
   "cell_type": "code",
   "execution_count": null,
   "id": "f1d0ed53-3983-41af-b0d2-ccbde0362ed3",
   "metadata": {},
   "outputs": [],
   "source": []
  }
 ],
 "metadata": {
  "kernelspec": {
   "display_name": "cuda-gpt",
   "language": "python",
   "name": "cuda311"
  },
  "language_info": {
   "codemirror_mode": {
    "name": "ipython",
    "version": 3
   },
   "file_extension": ".py",
   "mimetype": "text/x-python",
   "name": "python",
   "nbconvert_exporter": "python",
   "pygments_lexer": "ipython3",
   "version": "3.11.9"
  }
 },
 "nbformat": 4,
 "nbformat_minor": 5
}
