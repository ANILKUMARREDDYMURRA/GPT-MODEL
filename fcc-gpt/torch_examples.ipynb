{
 "cells": [
  {
   "cell_type": "code",
   "execution_count": 12,
   "id": "0f7876c6-37d9-4854-851c-484c8e477ab6",
   "metadata": {},
   "outputs": [
    {
     "name": "stdout",
     "output_type": "stream",
     "text": [
      "cuda\n"
     ]
    }
   ],
   "source": [
    "import torch\n",
    "import numpy as np\n",
    "from torch.nn import functional as F\n",
    "import time\n",
    "device = 'cuda' if torch.cuda.is_available else 'cpu'\n",
    "print(device)"
   ]
  },
  {
   "cell_type": "code",
   "execution_count": 13,
   "id": "744c24c0-693d-44c3-aa62-0e851f29e230",
   "metadata": {},
   "outputs": [
    {
     "name": "stdout",
     "output_type": "stream",
     "text": [
      "total time taken is 0.002002\n"
     ]
    }
   ],
   "source": [
    "start_time = time.time()\n",
    "\n",
    "zeros = torch.zeros(1,1)\n",
    "end_time = time.time()\n",
    "\n",
    "total_time = end_time - start_time\n",
    "print(f\"total time taken is {total_time:4f}\")"
   ]
  },
  {
   "cell_type": "code",
   "execution_count": 14,
   "id": "49c79b70-f89a-4889-bba3-ed6c66c09901",
   "metadata": {},
   "outputs": [
    {
     "name": "stdout",
     "output_type": "stream",
     "text": [
      "total time taken is 0.252794\n",
      "total time taken is 0.236403\n"
     ]
    },
    {
     "name": "stderr",
     "output_type": "stream",
     "text": [
      "C:\\Users\\anilk\\AppData\\Local\\Temp\\ipykernel_19292\\4108718828.py:17: DeprecationWarning: __array_wrap__ must accept context and return_scalar arguments (positionally) in the future. (Deprecated NumPy 2.0)\n",
      "  rand = np.multiply(np_rand1,np_rand2)\n"
     ]
    }
   ],
   "source": [
    "torch_rand1 = torch.rand(100,100,100,100).to(device)\n",
    "torch_rand2 = torch.rand(100,100,100,100).to(device)\n",
    "np_rand1 = torch.rand(100,100,100,100)\n",
    "np_rand2 = torch.rand(100,100,100,100)\n",
    "\n",
    "\n",
    "start_time = time.time()\n",
    "\n",
    "rand = (torch_rand1 @ torch_rand2)\n",
    "\n",
    "end_time = time.time()\n",
    "\n",
    "total_time = end_time - start_time\n",
    "print(f\"total time taken is {total_time:4f}\")\n",
    "\n",
    "start_time = time.time()\n",
    "rand = np.multiply(np_rand1,np_rand2)\n",
    "end_time = time.time()\n",
    "total_time = end_time - start_time\n",
    "print(f\"total time taken is {total_time:4f}\")\n"
   ]
  },
  {
   "cell_type": "code",
   "execution_count": 15,
   "id": "1fbe1dcd-80ed-41a5-8c7f-19be0afdae0a",
   "metadata": {},
   "outputs": [
    {
     "name": "stdout",
     "output_type": "stream",
     "text": [
      "tensor([1, 1, 1, 1, 1, 0, 1, 1, 1, 1])\n"
     ]
    }
   ],
   "source": [
    "\n",
    "probabilities = torch.tensor([0.1,0.9])\n",
    "samples = torch.multinomial(probabilities,num_samples = 10,replacement = True)\n",
    "print(samples)"
   ]
  },
  {
   "cell_type": "code",
   "execution_count": 16,
   "id": "eeeefa60-d8c5-4aad-bc85-9082fd01d624",
   "metadata": {},
   "outputs": [
    {
     "data": {
      "text/plain": [
       "tensor([1, 2, 3, 4, 5])"
      ]
     },
     "execution_count": 16,
     "metadata": {},
     "output_type": "execute_result"
    }
   ],
   "source": [
    "tensor = torch.tensor([1,2,3,4])\n",
    "out = torch.cat((tensor,torch.tensor([5])),dim=0)\n",
    "out"
   ]
  },
  {
   "cell_type": "code",
   "execution_count": 17,
   "id": "2170bc44-2293-49fc-8ffa-4f4a6dc37ba3",
   "metadata": {},
   "outputs": [
    {
     "data": {
      "text/plain": [
       "tensor([[1., 0., 0., 0., 0.],\n",
       "        [1., 1., 0., 0., 0.],\n",
       "        [1., 1., 1., 0., 0.],\n",
       "        [1., 1., 1., 1., 0.],\n",
       "        [1., 1., 1., 1., 1.]])"
      ]
     },
     "execution_count": 17,
     "metadata": {},
     "output_type": "execute_result"
    }
   ],
   "source": [
    "out = torch.tril(torch.ones(5,5))\n",
    "out"
   ]
  },
  {
   "cell_type": "code",
   "execution_count": 18,
   "id": "46816cb1-a1ca-4c43-b6fa-8c85cea01144",
   "metadata": {},
   "outputs": [
    {
     "data": {
      "text/plain": [
       "tensor([[1., 1., 1., 1., 1.],\n",
       "        [0., 1., 1., 1., 1.],\n",
       "        [0., 0., 1., 1., 1.],\n",
       "        [0., 0., 0., 1., 1.],\n",
       "        [0., 0., 0., 0., 1.]])"
      ]
     },
     "execution_count": 18,
     "metadata": {},
     "output_type": "execute_result"
    }
   ],
   "source": [
    "out = torch.triu(torch.ones(5,5))\n",
    "out"
   ]
  },
  {
   "cell_type": "code",
   "execution_count": 19,
   "id": "f9fcf74a-732c-4241-a83b-2b0d89d6a8d8",
   "metadata": {},
   "outputs": [
    {
     "data": {
      "text/plain": [
       "tensor([[0., -inf, -inf, -inf, -inf],\n",
       "        [0., 0., -inf, -inf, -inf],\n",
       "        [0., 0., 0., -inf, -inf],\n",
       "        [0., 0., 0., 0., -inf],\n",
       "        [0., 0., 0., 0., 0.]])"
      ]
     },
     "execution_count": 19,
     "metadata": {},
     "output_type": "execute_result"
    }
   ],
   "source": [
    "out = torch.zeros(5,5).masked_fill(torch.tril(torch.ones(5,5))==0,float('-inf'))\n",
    "out"
   ]
  },
  {
   "cell_type": "code",
   "execution_count": 20,
   "id": "c30be66f-bdd2-4c5a-a067-c623f1a9389a",
   "metadata": {},
   "outputs": [
    {
     "data": {
      "text/plain": [
       "tensor([[1., 0., 0., 0., 0.],\n",
       "        [1., 1., 0., 0., 0.],\n",
       "        [1., 1., 1., 0., 0.],\n",
       "        [1., 1., 1., 1., 0.],\n",
       "        [1., 1., 1., 1., 1.]])"
      ]
     },
     "execution_count": 20,
     "metadata": {},
     "output_type": "execute_result"
    }
   ],
   "source": [
    "torch.exp(out)"
   ]
  },
  {
   "cell_type": "code",
   "execution_count": 21,
   "id": "9d6d564c-6418-4be6-97be-0eebf1604655",
   "metadata": {},
   "outputs": [
    {
     "data": {
      "text/plain": [
       "torch.Size([4, 3, 2])"
      ]
     },
     "execution_count": 21,
     "metadata": {},
     "output_type": "execute_result"
    }
   ],
   "source": [
    "input = torch.zeros(2,3,4)\n",
    "out = input.transpose(0,2)\n",
    "out.shape"
   ]
  },
  {
   "cell_type": "code",
   "execution_count": 22,
   "id": "9ffed254-c27e-4c2a-a5a5-06bfcb8570a2",
   "metadata": {},
   "outputs": [
    {
     "data": {
      "text/plain": [
       "tensor([[1, 2, 3],\n",
       "        [1, 2, 3],\n",
       "        [1, 2, 3]])"
      ]
     },
     "execution_count": 22,
     "metadata": {},
     "output_type": "execute_result"
    }
   ],
   "source": [
    "tensor1 = torch.tensor([1,2,3])\n",
    "tensor2 = torch.tensor([1,2,3])\n",
    "tensor3 = torch.tensor([1,2,3])\n",
    "\n",
    "stacked_tensor = torch.stack([tensor1,tensor2,tensor3])\n",
    "stacked_tensor"
   ]
  },
  {
   "cell_type": "code",
   "execution_count": 23,
   "id": "aaf434ea-d1ae-46f4-8d86-227f44bfe385",
   "metadata": {},
   "outputs": [
    {
     "name": "stdout",
     "output_type": "stream",
     "text": [
      "tensor([ 3.5051, 10.9212,  1.6950], grad_fn=<SqueezeBackward4>)\n"
     ]
    }
   ],
   "source": [
    "import torch.nn as nn\n",
    "tensor1 = torch.tensor([10.,10.,10.])\n",
    "\n",
    "linear = nn.Linear(3,3,bias = False)\n",
    "print(linear(tensor1))"
   ]
  },
  {
   "cell_type": "code",
   "execution_count": 24,
   "id": "2e7f603c-9979-47f5-b3a2-06df05348a6d",
   "metadata": {},
   "outputs": [
    {
     "name": "stdout",
     "output_type": "stream",
     "text": [
      "tensor([0.0900, 0.2447, 0.6652])\n"
     ]
    }
   ],
   "source": [
    "import torch.nn.functional as F\n",
    "\n",
    "tensor1 = torch.tensor([1.0,2.0,3.0])\n",
    "\n",
    "softmax_op = F.softmax(tensor1,dim=0)\n",
    "\n",
    "\n",
    "print(softmax_op)"
   ]
  },
  {
   "cell_type": "code",
   "execution_count": 25,
   "id": "60e80ca7-057c-4f7d-9546-f6fd1e4a3a1d",
   "metadata": {},
   "outputs": [
    {
     "name": "stdout",
     "output_type": "stream",
     "text": [
      "tensor([[-7.4242e-01, -5.2160e-01, -3.5719e-01,  5.2731e-01, -7.2512e-02,\n",
      "          4.1002e-01],\n",
      "        [ 1.8569e-04, -6.8872e-01,  3.8905e-01,  4.7915e-02, -1.1516e+00,\n",
      "          5.4954e-01],\n",
      "        [ 3.1278e-01,  3.9416e-02, -3.1182e-01, -9.9826e-01, -2.1013e+00,\n",
      "          1.7845e-01],\n",
      "        [ 2.0986e-01,  1.1292e-02,  8.5521e-02, -7.4759e-02, -6.2181e-01,\n",
      "         -1.4545e+00]], grad_fn=<EmbeddingBackward0>)\n",
      "torch.Size([4, 6])\n"
     ]
    }
   ],
   "source": [
    "vocab_size = 80\n",
    "embedding_dim = 6\n",
    "embedding = nn.Embedding(vocab_size,embedding_dim)\n",
    "\n",
    "\n",
    "input_indices = torch.LongTensor([1,5,3,4])\n",
    "\n",
    "embedded_output = embedding(input_indices)\n",
    "\n",
    "print(embedded_output)\n",
    "print(embedded_output.shape)\n"
   ]
  },
  {
   "cell_type": "code",
   "execution_count": 26,
   "id": "a1639829-cf7a-4cb9-afc0-9558e73df3cc",
   "metadata": {},
   "outputs": [
    {
     "name": "stdout",
     "output_type": "stream",
     "text": [
      "tensor([[ 27,  30,  33],\n",
      "        [ 61,  68,  75],\n",
      "        [ 95, 106, 117]])\n"
     ]
    }
   ],
   "source": [
    "a = torch.tensor([[1,2],[3,4],[5,6]])\n",
    "b = torch.tensor([[7,8,9],[10,11,12]])\n",
    "\n",
    "#print(a @ b)\n",
    "print(torch.matmul(a,b))"
   ]
  },
  {
   "cell_type": "code",
   "execution_count": 27,
   "id": "074e0ab7-d127-459d-83dd-c4b5c591d1a0",
   "metadata": {},
   "outputs": [
    {
     "name": "stdout",
     "output_type": "stream",
     "text": [
      "tensor([[3.8542, 2.6989, 1.7109],\n",
      "        [2.6100, 1.6102, 1.0083],\n",
      "        [3.8947, 2.5098, 1.5786]])\n"
     ]
    }
   ],
   "source": [
    "int_64 = torch.randint(10,(3,2)).float()\n",
    "\n",
    "float_32 = torch.rand(2,3)\n",
    "\n",
    "result = torch.matmul(int_64,float_32)\n",
    "\n",
    "print(result)"
   ]
  },
  {
   "cell_type": "code",
   "execution_count": 28,
   "id": "ec39bc87-5c50-4648-bfe7-9fca73484756",
   "metadata": {},
   "outputs": [
    {
     "name": "stdout",
     "output_type": "stream",
     "text": [
      "tensor([[[[0.7137, 0.3286],\n",
      "          [0.0458, 0.2220],\n",
      "          [0.5928, 0.1550],\n",
      "          [0.9429, 0.5882],\n",
      "          [0.3491, 0.5000]],\n",
      "\n",
      "         [[0.5258, 0.9663],\n",
      "          [0.2487, 0.3868],\n",
      "          [0.2039, 0.9977],\n",
      "          [0.1237, 0.4342],\n",
      "          [0.0880, 0.8925]],\n",
      "\n",
      "         [[0.5571, 0.1609],\n",
      "          [0.5162, 0.3968],\n",
      "          [0.5579, 0.9510],\n",
      "          [0.1294, 0.8274],\n",
      "          [0.4394, 0.1594]]],\n",
      "\n",
      "\n",
      "        [[[0.4284, 0.3265],\n",
      "          [0.0130, 0.8982],\n",
      "          [0.6521, 0.5120],\n",
      "          [0.5276, 0.6278],\n",
      "          [0.0292, 0.3992]],\n",
      "\n",
      "         [[0.2738, 0.7041],\n",
      "          [0.3329, 0.0776],\n",
      "          [0.6779, 0.9054],\n",
      "          [0.9641, 0.4766],\n",
      "          [0.2379, 0.1585]],\n",
      "\n",
      "         [[0.0283, 0.5331],\n",
      "          [0.2900, 0.5194],\n",
      "          [0.1683, 0.1527],\n",
      "          [0.6068, 0.9664],\n",
      "          [0.4290, 0.5672]]]])\n",
      "torch.Size([2, 3, 5, 2])\n",
      "torch.Size([3, 2, 5, 2])\n",
      "tensor([[[[0.7137, 0.3286],\n",
      "          [0.0458, 0.2220],\n",
      "          [0.5928, 0.1550],\n",
      "          [0.9429, 0.5882],\n",
      "          [0.3491, 0.5000]],\n",
      "\n",
      "         [[0.5258, 0.9663],\n",
      "          [0.2487, 0.3868],\n",
      "          [0.2039, 0.9977],\n",
      "          [0.1237, 0.4342],\n",
      "          [0.0880, 0.8925]]],\n",
      "\n",
      "\n",
      "        [[[0.5571, 0.1609],\n",
      "          [0.5162, 0.3968],\n",
      "          [0.5579, 0.9510],\n",
      "          [0.1294, 0.8274],\n",
      "          [0.4394, 0.1594]],\n",
      "\n",
      "         [[0.4284, 0.3265],\n",
      "          [0.0130, 0.8982],\n",
      "          [0.6521, 0.5120],\n",
      "          [0.5276, 0.6278],\n",
      "          [0.0292, 0.3992]]],\n",
      "\n",
      "\n",
      "        [[[0.2738, 0.7041],\n",
      "          [0.3329, 0.0776],\n",
      "          [0.6779, 0.9054],\n",
      "          [0.9641, 0.4766],\n",
      "          [0.2379, 0.1585]],\n",
      "\n",
      "         [[0.0283, 0.5331],\n",
      "          [0.2900, 0.5194],\n",
      "          [0.1683, 0.1527],\n",
      "          [0.6068, 0.9664],\n",
      "          [0.4290, 0.5672]]]])\n"
     ]
    }
   ],
   "source": [
    "a = torch.rand(2,3,5,2)\n",
    "print(a)\n",
    "print(a.shape)\n",
    "x,y,z,k = a.shape\n",
    "a=a.view(3,2,5,2)\n",
    "print(a.shape)\n",
    "print(a)"
   ]
  },
  {
   "cell_type": "code",
   "execution_count": 29,
   "id": "1dfeef8e-f74a-4980-a612-5a74123fe9ed",
   "metadata": {},
   "outputs": [
    {
     "data": {
      "text/plain": [
       "tensor([[0., 0.],\n",
       "        [0., 0.]])"
      ]
     },
     "execution_count": 29,
     "metadata": {},
     "output_type": "execute_result"
    }
   ],
   "source": [
    "torch.zeros(2,2)"
   ]
  },
  {
   "cell_type": "code",
   "execution_count": 39,
   "id": "9a891599-4123-4c5f-8ef7-ee4b1e691b2c",
   "metadata": {},
   "outputs": [
    {
     "name": "stdout",
     "output_type": "stream",
     "text": [
      "tensor([[[4.0906e-01, 9.8905e-01, 9.7289e-01, 4.5626e-01, 1.3887e-01,\n",
      "          4.0484e-01, 5.1749e-01, 9.1866e-01, 6.1904e-01, 6.2683e-01],\n",
      "         [1.0143e-02, 1.2837e-01, 9.1898e-01, 4.6229e-01, 4.7418e-01,\n",
      "          4.0217e-01, 5.4540e-01, 3.2919e-01, 3.5856e-02, 5.1646e-01],\n",
      "         [9.6916e-01, 2.8493e-02, 2.8151e-01, 3.5929e-01, 3.6002e-01,\n",
      "          4.7966e-01, 8.8586e-01, 8.4955e-01, 2.8355e-01, 7.9304e-01],\n",
      "         [1.2393e-01, 2.6759e-01, 2.0483e-01, 5.0680e-01, 3.3972e-01,\n",
      "          4.8264e-01, 6.0337e-01, 9.4742e-01, 7.0099e-01, 4.5782e-01],\n",
      "         [6.3460e-01, 1.7173e-01, 2.5433e-01, 7.6066e-01, 9.3791e-01,\n",
      "          9.7019e-01, 2.1728e-01, 5.2109e-01, 9.6908e-01, 4.9441e-01],\n",
      "         [4.4556e-01, 3.0273e-01, 4.9179e-01, 1.3559e-01, 5.8675e-01,\n",
      "          5.5924e-01, 6.2172e-01, 9.6633e-01, 3.1392e-01, 8.6308e-01],\n",
      "         [4.5452e-01, 9.1870e-01, 8.1102e-01, 6.8831e-01, 5.2093e-01,\n",
      "          1.4316e-01, 1.9041e-01, 1.0735e-01, 8.9939e-01, 3.9538e-01],\n",
      "         [3.5914e-01, 3.1978e-01, 8.3274e-01, 8.3533e-01, 6.5812e-01,\n",
      "          2.9120e-01, 1.9212e-01, 8.6504e-01, 2.9534e-01, 2.1618e-01]],\n",
      "\n",
      "        [[3.9499e-01, 3.9156e-01, 7.9967e-01, 1.7805e-01, 7.8827e-02,\n",
      "          7.9176e-01, 6.5459e-01, 7.1663e-01, 1.8054e-02, 2.1596e-01],\n",
      "         [8.5643e-01, 5.9662e-01, 1.7928e-01, 4.0831e-01, 9.2438e-01,\n",
      "          8.8167e-01, 9.0196e-01, 2.6971e-01, 2.1894e-01, 1.1001e-01],\n",
      "         [6.4145e-01, 8.8311e-01, 9.0338e-01, 7.7918e-01, 5.8228e-01,\n",
      "          6.5063e-01, 6.7217e-01, 7.3057e-01, 6.8151e-02, 6.9397e-01],\n",
      "         [1.3633e-01, 3.9380e-01, 7.4977e-01, 1.7664e-01, 2.6776e-01,\n",
      "          7.0826e-01, 2.2502e-01, 3.9824e-01, 3.3336e-01, 8.4549e-01],\n",
      "         [1.3276e-01, 4.9251e-01, 2.6988e-01, 7.7137e-02, 5.5277e-01,\n",
      "          7.4060e-01, 7.1781e-01, 2.9826e-02, 5.2446e-01, 7.2286e-01],\n",
      "         [5.2627e-01, 5.8904e-01, 4.4293e-02, 8.7223e-01, 8.8893e-01,\n",
      "          3.7734e-01, 3.8521e-02, 6.0640e-01, 8.9537e-01, 1.5454e-01],\n",
      "         [3.0850e-01, 2.5307e-01, 7.3618e-01, 4.9147e-01, 9.6126e-01,\n",
      "          3.7691e-01, 2.2110e-01, 4.7601e-01, 1.2273e-01, 1.0355e-01],\n",
      "         [1.8402e-01, 1.5946e-01, 3.2242e-01, 2.3055e-04, 6.5200e-01,\n",
      "          1.2118e-01, 3.9722e-01, 5.3908e-01, 2.7684e-01, 1.8685e-01]],\n",
      "\n",
      "        [[1.5977e-02, 5.6889e-01, 2.6174e-01, 4.4736e-01, 7.0526e-01,\n",
      "          3.1473e-01, 2.3079e-01, 8.2112e-01, 3.1034e-01, 5.7084e-01],\n",
      "         [5.6838e-01, 3.6325e-01, 5.2324e-02, 8.6209e-01, 9.5650e-01,\n",
      "          2.3239e-01, 1.4615e-01, 7.9949e-01, 8.0834e-01, 9.0673e-01],\n",
      "         [4.0849e-01, 1.4913e-02, 1.9256e-01, 7.6616e-01, 9.1750e-01,\n",
      "          4.4595e-01, 5.6957e-01, 7.1511e-01, 8.9788e-01, 7.2399e-01],\n",
      "         [3.2713e-01, 4.1338e-01, 5.2947e-01, 3.9263e-01, 4.1706e-01,\n",
      "          2.8717e-01, 4.8019e-01, 4.8094e-01, 5.9659e-02, 2.0817e-01],\n",
      "         [2.1526e-02, 5.0006e-01, 2.2177e-01, 6.1492e-01, 7.6425e-01,\n",
      "          6.8532e-01, 6.4134e-01, 8.8007e-01, 6.7368e-01, 8.6663e-01],\n",
      "         [6.7541e-01, 8.8160e-02, 4.9312e-02, 9.8127e-01, 3.9529e-01,\n",
      "          7.6612e-01, 9.1404e-01, 5.7369e-01, 6.9453e-01, 2.5888e-01],\n",
      "         [1.9520e-01, 7.2064e-01, 4.8576e-01, 1.2936e-01, 4.1309e-01,\n",
      "          7.3498e-01, 4.3907e-02, 5.5220e-01, 9.2192e-01, 2.7696e-02],\n",
      "         [1.3826e-01, 4.9385e-01, 4.9126e-01, 5.8370e-01, 9.0580e-01,\n",
      "          6.2756e-01, 4.6307e-01, 8.2095e-01, 4.4962e-01, 4.2794e-01]],\n",
      "\n",
      "        [[4.7714e-01, 2.3318e-01, 5.2256e-01, 5.0493e-01, 1.8422e-01,\n",
      "          6.0859e-01, 5.4621e-01, 1.3618e-01, 3.7744e-01, 9.7444e-01],\n",
      "         [7.0997e-01, 2.4657e-01, 3.9624e-01, 9.5193e-01, 3.4199e-01,\n",
      "          8.4324e-01, 2.5172e-01, 3.3438e-01, 6.7594e-01, 2.0207e-01],\n",
      "         [8.7192e-01, 9.6568e-01, 4.5753e-01, 6.8427e-01, 4.2668e-01,\n",
      "          8.8345e-01, 2.7717e-01, 6.1013e-01, 2.3215e-02, 1.8073e-01],\n",
      "         [3.5715e-01, 9.8419e-01, 6.3660e-03, 3.5772e-01, 5.1457e-01,\n",
      "          2.3807e-01, 8.5631e-01, 4.6100e-01, 2.5973e-01, 7.9829e-01],\n",
      "         [7.6822e-01, 8.2391e-02, 9.1166e-01, 7.3642e-01, 3.7764e-01,\n",
      "          3.5398e-01, 7.0454e-02, 8.1417e-01, 1.3946e-01, 8.4930e-01],\n",
      "         [8.0879e-01, 9.2390e-01, 6.5313e-02, 4.9056e-01, 1.0447e-01,\n",
      "          9.6701e-02, 9.1470e-01, 6.0413e-01, 4.5304e-01, 6.3451e-01],\n",
      "         [1.0370e-01, 1.4076e-02, 7.1201e-01, 1.9199e-01, 1.8621e-01,\n",
      "          2.5777e-01, 2.5620e-01, 1.9049e-01, 3.8339e-01, 9.3704e-01],\n",
      "         [5.4328e-03, 5.2913e-01, 6.2522e-01, 2.1015e-01, 9.3378e-01,\n",
      "          1.4893e-01, 5.5417e-01, 4.0485e-01, 4.5545e-01, 6.3416e-01]]])\n",
      "tensor([[3.5914e-01, 3.1978e-01, 8.3274e-01, 8.3533e-01, 6.5812e-01, 2.9120e-01,\n",
      "         1.9212e-01, 8.6504e-01, 2.9534e-01, 2.1618e-01],\n",
      "        [1.8402e-01, 1.5946e-01, 3.2242e-01, 2.3055e-04, 6.5200e-01, 1.2118e-01,\n",
      "         3.9722e-01, 5.3908e-01, 2.7684e-01, 1.8685e-01],\n",
      "        [1.3826e-01, 4.9385e-01, 4.9126e-01, 5.8370e-01, 9.0580e-01, 6.2756e-01,\n",
      "         4.6307e-01, 8.2095e-01, 4.4962e-01, 4.2794e-01],\n",
      "        [5.4328e-03, 5.2913e-01, 6.2522e-01, 2.1015e-01, 9.3378e-01, 1.4893e-01,\n",
      "         5.5417e-01, 4.0485e-01, 4.5545e-01, 6.3416e-01]])\n"
     ]
    }
   ],
   "source": [
    "input = torch.rand((4,8,10))\n",
    "B,T,C = input.shape\n",
    "output = input.view(B*T,C)\n",
    "print(input)\n",
    "print(input[: , -1, :])"
   ]
  },
  {
   "cell_type": "code",
   "execution_count": 42,
   "id": "4cf671f2-8f58-4d26-a581-208545b22140",
   "metadata": {},
   "outputs": [
    {
     "name": "stdout",
     "output_type": "stream",
     "text": [
      "tensor([0.7616])\n"
     ]
    }
   ],
   "source": [
    "x = torch.tensor([1],dtype = torch.float32)\n",
    "y = F.tanh(x)\n",
    "print(y)"
   ]
  },
  {
   "cell_type": "code",
   "execution_count": null,
   "id": "55540c3c-27ab-4361-a92f-209d0d3c64c5",
   "metadata": {},
   "outputs": [],
   "source": []
  }
 ],
 "metadata": {
  "kernelspec": {
   "display_name": "cuda-gpt",
   "language": "python",
   "name": "cuda311"
  },
  "language_info": {
   "codemirror_mode": {
    "name": "ipython",
    "version": 3
   },
   "file_extension": ".py",
   "mimetype": "text/x-python",
   "name": "python",
   "nbconvert_exporter": "python",
   "pygments_lexer": "ipython3",
   "version": "3.11.9"
  }
 },
 "nbformat": 4,
 "nbformat_minor": 5
}
